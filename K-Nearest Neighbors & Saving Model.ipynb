{
 "cells": [
  {
   "cell_type": "markdown",
   "metadata": {},
   "source": [
    "# **K-Nearest Neighbors Classifier & Saving Model**"
   ]
  },
  {
   "cell_type": "markdown",
   "metadata": {},
   "source": [
    "K Nearest Neighbour is a simple algorithm that stores all the available cases and classifies the new data or case based on a similarity measure. It is mostly used to classifies a data point based on how its neighbours are classified.\n",
    "\n",
    "K-Nearest Neighbors is one of the most basic algorithm used for Classification.\n",
    "\n",
    "KNN is a non ``parametric algorithm`` (meaning, it does not make any underlying assumptions about the distribution of data) belonging to supervised learning community. KNN algorithm can also be used for regression problems.The only difference will be using averages of nearest neighbors rather than voting from nearest neighbors."
   ]
  },
  {
   "cell_type": "markdown",
   "metadata": {},
   "source": [
    "### **Intuition behind the algorithm**\n",
    "\n",
    "In K-NN algorithm output is a class membership. An object is assigned a class which is most common among its K nearest neighbors, K being the number of neighbors. Intuitively K is always a positive integer. Thus if K = 1.The object is assigned a class of its nearest neighbor.\n",
    "\n",
    "<img src = 'a_img.png' width=\"500\" height=\"400\">"
   ]
  },
  {
   "cell_type": "markdown",
   "metadata": {},
   "source": [
    "### **How does KNN work?**\n",
    "\n",
    "We have age and experience in an organization along with the salaries. We want to predict the salary of a new candidate whose age and experience is available.\n",
    "\n",
    "**Step 1:** Choose a value for K. K should be an odd number.\n",
    "\n",
    "**Step2:** Find the distance of the new point to each of the training data.\n",
    "\n",
    "**Step 3:** Find the K nearest neighbors to the new data point.\n",
    "\n",
    "**Step 4:** For classification, count the number of data points in each category among the k neighbors. New data point will belong to class that has the most neighbors.\n",
    "\n",
    "For regression, value for the new data point will be the average of the k neighbors.\n",
    "\n",
    "<img src= 'b_img.png' width=\"700\" height=\"500\">"
   ]
  },
  {
   "cell_type": "markdown",
   "metadata": {},
   "source": [
    "### **How do we Decide Value of K?**\n",
    "\n",
    "Following are the different boundaries separting the two classes\n",
    "\n",
    "<img src = 'c_img.png'> <img src = 'e_img.png'>\n",
    "\n",
    "If you observe the graph,with increasing value of ‘K’ boundaries become more smoother. With ‘K’ increasing to infinity it finally becomes all blue or all red depending on the total majority.\n",
    "\n",
    "Lets examine training and validation error rate with varying values of K.\n",
    "\n",
    "<img src = 'd_img.png'> <img src = 'f_img.png'>\n",
    "\n",
    "If we observe the training error rate graph it can be seen that error increases for increasing value of K,also error is zero for K=1.This is because the closest point to any training data point is itself.Hence the prediction is always accurate with K=1.\n",
    "\n",
    "If validation error curve would have been similar, our choice of K would have been 1.\n",
    "\n",
    "By observing validation error rate we can interpret that At K=1, we were over fitting the boundaries. In Validation graph Error rate initially decreases and reaches a minima. After the minima point, it then increase with increasing K. This value of K where error reaches minima should be used for all predictions."
   ]
  },
  {
   "cell_type": "markdown",
   "metadata": {},
   "source": [
    "## **Which value is the nearest value i.e which distance metrics can be used?**\n",
    "\n",
    "### **1. Euclidean Distance**\n",
    "\n",
    "The Euclidean distance or Euclidean metric is the “ordinary” straight-line distance between two points in Euclidean space.(Wikipedia)\n",
    "\n",
    "<img src = 'g_img.png' width=\"500\" height=\"400\">\n",
    "\n",
    "<img src='k_img.png'>\n",
    "\n",
    "### **2. Manhattan Distance**\n",
    "\n",
    "The Manhattan distance between two vectors (or points) a and b is defined as ∑i|ai−bi| over the dimensions of the vectors. It is called the Manhattan distance because all paths from the bottom left to top right of this idealized city have the same distance.\n",
    "\n",
    "<img src = 'h_img.png' width=\"300\" height=\"300\"> <img src = 'i_img.png'>\n",
    "<img src='l_img.png'>\n",
    "\n",
    "### **3. Chebyshev Distance**\n",
    "\n",
    "In mathematics, Chebyshev distance (or Tchebychev distance), maximum metric, or L∞ metric is a metric defined on a vector space where the distance between two vectors is the greatest of their differences along any coordinate dimension. It is named after Pafnuty Chebyshev.(Wikipedia)\n",
    "\n",
    "<img src='j_img.png'>"
   ]
  },
  {
   "cell_type": "markdown",
   "metadata": {},
   "source": [
    "### **Applications of KNN:**\n",
    "\n",
    "-    If you’re searching for semantically similar documents (i.e., documents containing similar topics), this is referred to as Concept Search.\n",
    "-    The biggest use case of K-NN search might be Recommender Systems. If you know a user likes a particular item, then you can recommend similar items for them.\n",
    "\n",
    "### **Advantages:**\n",
    "\n",
    "-    No assumptions about data — useful, for example, for nonlinear data\n",
    "-    Simple algorithm — to explain and understand/interpret\n",
    "-    High accuracy (relatively) — it is pretty high but not competitive in comparison to better supervised learning models\n",
    "-    Versatile — useful for classification or regression\n",
    "\n",
    "### **Disadvantages:**\n",
    "\n",
    "-    Computationally expensive — because the algorithm stores all of the training data\n",
    "-    High memory requirement\n",
    "-    Prediction stage might be slow (with big N)\n",
    "-    Sensitive to irrelevant features and the scale of the data."
   ]
  },
  {
   "cell_type": "markdown",
   "metadata": {},
   "source": [
    "<hr>\n",
    "\n",
    "## **Irish Dataset**\n",
    "The Iris dataset was used in R.A. Fisher's classic 1936 paper, The Use of Multiple Measurements in Taxonomic Problems, and can also be found on the UCI Machine Learning Repository.\n",
    "\n",
    "It includes three iris species with 50 samples each as well as some properties about each flower. One flower species is linearly separable from the other two, but the other two are not linearly separable from each other.\n",
    "\n",
    "<img src = 'm_img.png'>"
   ]
  },
  {
   "cell_type": "code",
   "execution_count": 49,
   "metadata": {},
   "outputs": [],
   "source": [
    "import pandas as pd\n",
    "import numpy as np\n",
    "import matplotlib.pyplot as plt\n",
    "\n",
    "from sklearn.model_selection import train_test_split\n",
    "from sklearn.neighbors import KNeighborsClassifier\n",
    "\n",
    "from sklearn.metrics import classification_report, accuracy_score, confusion_matrix, recall_score, roc_auc_score, f1_score"
   ]
  },
  {
   "cell_type": "code",
   "execution_count": 52,
   "metadata": {},
   "outputs": [
    {
     "data": {
      "text/plain": [
       "['DESCR', 'data', 'feature_names', 'filename', 'target', 'target_names']"
      ]
     },
     "execution_count": 52,
     "metadata": {},
     "output_type": "execute_result"
    }
   ],
   "source": [
    "# buka iris dataset\n",
    "from sklearn.datasets import load_iris\n",
    "iris = load_iris()\n",
    "dir(iris)"
   ]
  },
  {
   "cell_type": "code",
   "execution_count": 53,
   "metadata": {},
   "outputs": [
    {
     "data": {
      "text/plain": [
       "array(['setosa', 'versicolor', 'virginica'], dtype='<U10')"
      ]
     },
     "execution_count": 53,
     "metadata": {},
     "output_type": "execute_result"
    }
   ],
   "source": [
    "# nama target\n",
    "(iris['target_names'])"
   ]
  },
  {
   "cell_type": "code",
   "execution_count": 55,
   "metadata": {},
   "outputs": [
    {
     "data": {
      "text/html": [
       "<div>\n",
       "<style scoped>\n",
       "    .dataframe tbody tr th:only-of-type {\n",
       "        vertical-align: middle;\n",
       "    }\n",
       "\n",
       "    .dataframe tbody tr th {\n",
       "        vertical-align: top;\n",
       "    }\n",
       "\n",
       "    .dataframe thead th {\n",
       "        text-align: right;\n",
       "    }\n",
       "</style>\n",
       "<table border=\"1\" class=\"dataframe\">\n",
       "  <thead>\n",
       "    <tr style=\"text-align: right;\">\n",
       "      <th></th>\n",
       "      <th>SL</th>\n",
       "      <th>SW</th>\n",
       "      <th>PL</th>\n",
       "      <th>PW</th>\n",
       "      <th>target</th>\n",
       "    </tr>\n",
       "  </thead>\n",
       "  <tbody>\n",
       "    <tr>\n",
       "      <th>0</th>\n",
       "      <td>5.1</td>\n",
       "      <td>3.5</td>\n",
       "      <td>1.4</td>\n",
       "      <td>0.2</td>\n",
       "      <td>0</td>\n",
       "    </tr>\n",
       "    <tr>\n",
       "      <th>1</th>\n",
       "      <td>4.9</td>\n",
       "      <td>3.0</td>\n",
       "      <td>1.4</td>\n",
       "      <td>0.2</td>\n",
       "      <td>0</td>\n",
       "    </tr>\n",
       "    <tr>\n",
       "      <th>2</th>\n",
       "      <td>4.7</td>\n",
       "      <td>3.2</td>\n",
       "      <td>1.3</td>\n",
       "      <td>0.2</td>\n",
       "      <td>0</td>\n",
       "    </tr>\n",
       "    <tr>\n",
       "      <th>3</th>\n",
       "      <td>4.6</td>\n",
       "      <td>3.1</td>\n",
       "      <td>1.5</td>\n",
       "      <td>0.2</td>\n",
       "      <td>0</td>\n",
       "    </tr>\n",
       "    <tr>\n",
       "      <th>4</th>\n",
       "      <td>5.0</td>\n",
       "      <td>3.6</td>\n",
       "      <td>1.4</td>\n",
       "      <td>0.2</td>\n",
       "      <td>0</td>\n",
       "    </tr>\n",
       "  </tbody>\n",
       "</table>\n",
       "</div>"
      ],
      "text/plain": [
       "    SL   SW   PL   PW  target\n",
       "0  5.1  3.5  1.4  0.2       0\n",
       "1  4.9  3.0  1.4  0.2       0\n",
       "2  4.7  3.2  1.3  0.2       0\n",
       "3  4.6  3.1  1.5  0.2       0\n",
       "4  5.0  3.6  1.4  0.2       0"
      ]
     },
     "execution_count": 55,
     "metadata": {},
     "output_type": "execute_result"
    }
   ],
   "source": [
    "df = pd.DataFrame(iris['data'], columns = ['SL', 'SW', 'PL', 'PW'])\n",
    "df['target'] = iris['target']\n",
    "df.head()"
   ]
  },
  {
   "cell_type": "markdown",
   "metadata": {},
   "source": [
    "### Visualize Datasets"
   ]
  },
  {
   "cell_type": "code",
   "execution_count": 57,
   "metadata": {},
   "outputs": [
    {
     "data": {
      "image/png": "[encoded data removed]",
      "text/plain": [
       "<Figure size 432x288 with 2 Axes>"
      ]
     },
     "metadata": {
      "needs_background": "light"
     },
     "output_type": "display_data"
    }
   ],
   "source": [
    "plt.subplot(121)\n",
    "plt.plot(df['SL'][df['target']==0], df['SW'][df['target']==0], 'r.') #setosa\n",
    "plt.plot(df['SL'][df['target']==1], df['SW'][df['target']==1], 'g.') #versicolor\n",
    "plt.plot(df['SL'][df['target']==2], df['SW'][df['target']==2], 'b.') #virginica\n",
    "plt.subplot(122)\n",
    "plt.plot(df['PL'][df['target']==0], df['PW'][df['target']==0], 'r.') #setosa\n",
    "plt.plot(df['PL'][df['target']==1], df['PW'][df['target']==1], 'g.') #versicolor\n",
    "plt.plot(df['PL'][df['target']==2], df['PW'][df['target']==2], 'b.') #virginica\n",
    "plt.show()"
   ]
  },
  {
   "cell_type": "markdown",
   "metadata": {},
   "source": [
    "### __Splitting Dataset__"
   ]
  },
  {
   "cell_type": "code",
   "execution_count": 58,
   "metadata": {},
   "outputs": [],
   "source": [
    "x = df[['SL', 'SW', 'PL', 'PW']]\n",
    "y = df['target']\n",
    "\n",
    "x_train, x_test, y_train, y_test = train_test_split(x, y, test_size = 0.20, random_state=0)"
   ]
  },
  {
   "cell_type": "markdown",
   "metadata": {},
   "source": [
    "### __Fitting KNN Model__"
   ]
  },
  {
   "cell_type": "code",
   "execution_count": 59,
   "metadata": {},
   "outputs": [
    {
     "data": {
      "text/plain": [
       "KNeighborsClassifier(algorithm='auto', leaf_size=30, metric='minkowski',\n",
       "                     metric_params=None, n_jobs=None, n_neighbors=5, p=2,\n",
       "                     weights='uniform')"
      ]
     },
     "execution_count": 59,
     "metadata": {},
     "output_type": "execute_result"
    }
   ],
   "source": [
    "# belum mengatur jumlah k (tetangga), default n_neighbors = 5\n",
    "model = KNeighborsClassifier()\n",
    "model.fit(x_train, y_train)"
   ]
  },
  {
   "cell_type": "markdown",
   "metadata": {},
   "source": [
    "### __Predict__"
   ]
  },
  {
   "cell_type": "code",
   "execution_count": 60,
   "metadata": {},
   "outputs": [],
   "source": [
    "y_pred = model.predict(x_test)"
   ]
  },
  {
   "cell_type": "code",
   "execution_count": 61,
   "metadata": {},
   "outputs": [
    {
     "data": {
      "text/plain": [
       "array([2, 1, 0, 2, 0, 2, 0, 1, 1, 1, 2, 1, 1, 1, 2, 0, 1, 1, 0, 0, 2, 1,\n",
       "       0, 0, 2, 0, 0, 1, 1, 0])"
      ]
     },
     "execution_count": 61,
     "metadata": {},
     "output_type": "execute_result"
    }
   ],
   "source": [
    "y_pred"
   ]
  },
  {
   "cell_type": "markdown",
   "metadata": {},
   "source": [
    "### __Evaluating Model__"
   ]
  },
  {
   "cell_type": "code",
   "execution_count": 62,
   "metadata": {},
   "outputs": [
    {
     "name": "stdout",
     "output_type": "stream",
     "text": [
      "              precision    recall  f1-score   support\n",
      "\n",
      "           0       1.00      1.00      1.00        11\n",
      "           1       1.00      0.92      0.96        13\n",
      "           2       0.86      1.00      0.92         6\n",
      "\n",
      "    accuracy                           0.97        30\n",
      "   macro avg       0.95      0.97      0.96        30\n",
      "weighted avg       0.97      0.97      0.97        30\n",
      "\n"
     ]
    }
   ],
   "source": [
    "print(classification_report(y_test, y_pred))"
   ]
  },
  {
   "cell_type": "code",
   "execution_count": 63,
   "metadata": {},
   "outputs": [
    {
     "data": {
      "text/html": [
       "<div>\n",
       "<style scoped>\n",
       "    .dataframe tbody tr th:only-of-type {\n",
       "        vertical-align: middle;\n",
       "    }\n",
       "\n",
       "    .dataframe tbody tr th {\n",
       "        vertical-align: top;\n",
       "    }\n",
       "\n",
       "    .dataframe thead th {\n",
       "        text-align: right;\n",
       "    }\n",
       "</style>\n",
       "<table border=\"1\" class=\"dataframe\">\n",
       "  <thead>\n",
       "    <tr style=\"text-align: right;\">\n",
       "      <th></th>\n",
       "      <th>Score (%)</th>\n",
       "    </tr>\n",
       "  </thead>\n",
       "  <tbody>\n",
       "    <tr>\n",
       "      <th>accuracy</th>\n",
       "      <td>96.666667</td>\n",
       "    </tr>\n",
       "    <tr>\n",
       "      <th>recall</th>\n",
       "      <td>97.435897</td>\n",
       "    </tr>\n",
       "    <tr>\n",
       "      <th>precision</th>\n",
       "      <td>95.238095</td>\n",
       "    </tr>\n",
       "    <tr>\n",
       "      <th>roc_auc_score</th>\n",
       "      <td>100.000000</td>\n",
       "    </tr>\n",
       "    <tr>\n",
       "      <th>f1_score</th>\n",
       "      <td>96.102564</td>\n",
       "    </tr>\n",
       "  </tbody>\n",
       "</table>\n",
       "</div>"
      ],
      "text/plain": [
       "                Score (%)\n",
       "accuracy        96.666667\n",
       "recall          97.435897\n",
       "precision       95.238095\n",
       "roc_auc_score  100.000000\n",
       "f1_score        96.102564"
      ]
     },
     "execution_count": 63,
     "metadata": {},
     "output_type": "execute_result"
    }
   ],
   "source": [
    "pd.DataFrame(data = [accuracy_score(y_test, y_pred)*100,\n",
    "                     recall_score(y_test, y_pred, average = 'macro')*100,\n",
    "                     precision_score(y_test, y_pred, average = 'macro')*100,\n",
    "                     roc_auc_score(y_test, model.predict_proba(x_test), labels=[0,1,2], multi_class='ovo', average='macro')*100,\n",
    "                     f1_score(y_test, y_pred, average='macro')*100\n",
    "                    ],\n",
    "             index = ['accuracy', 'recall', 'precision', 'roc_auc_score', 'f1_score'],\n",
    "             columns = ['Score (%)']\n",
    "            )"
   ]
  },
  {
   "cell_type": "code",
   "execution_count": 64,
   "metadata": {},
   "outputs": [
    {
     "data": {
      "text/html": [
       "<div>\n",
       "<style scoped>\n",
       "    .dataframe tbody tr th:only-of-type {\n",
       "        vertical-align: middle;\n",
       "    }\n",
       "\n",
       "    .dataframe tbody tr th {\n",
       "        vertical-align: top;\n",
       "    }\n",
       "\n",
       "    .dataframe thead th {\n",
       "        text-align: right;\n",
       "    }\n",
       "</style>\n",
       "<table border=\"1\" class=\"dataframe\">\n",
       "  <thead>\n",
       "    <tr style=\"text-align: right;\">\n",
       "      <th></th>\n",
       "      <th>Score (%)</th>\n",
       "    </tr>\n",
       "  </thead>\n",
       "  <tbody>\n",
       "    <tr>\n",
       "      <th>Model Score in Data Train</th>\n",
       "      <td>95.000000</td>\n",
       "    </tr>\n",
       "    <tr>\n",
       "      <th>Model Score in Data Test</th>\n",
       "      <td>96.666667</td>\n",
       "    </tr>\n",
       "  </tbody>\n",
       "</table>\n",
       "</div>"
      ],
      "text/plain": [
       "                           Score (%)\n",
       "Model Score in Data Train  95.000000\n",
       "Model Score in Data Test   96.666667"
      ]
     },
     "execution_count": 64,
     "metadata": {},
     "output_type": "execute_result"
    }
   ],
   "source": [
    "pd.DataFrame(data = [model.score(x_train, y_train)*100,\n",
    "                    model.score(x_test, y_test)*100],\n",
    "            index = ['Model Score in Data Train', 'Model Score in Data Test'],\n",
    "            columns = ['Score (%)'])"
   ]
  },
  {
   "cell_type": "markdown",
   "metadata": {},
   "source": [
    "<hr>\n",
    "\n",
    "## __Deciding K Value__\n",
    "Berapa nilai K (jumlah tetangga) yang digunakan untuk memprediksi suatu data?\n",
    "\n",
    "1. sqrt(n) : akar pangkat 2 dari total data training\n",
    "2. pilih nilai yang ganjil"
   ]
  },
  {
   "cell_type": "code",
   "execution_count": 65,
   "metadata": {},
   "outputs": [
    {
     "data": {
      "text/plain": [
       "11"
      ]
     },
     "execution_count": 65,
     "metadata": {},
     "output_type": "execute_result"
    }
   ],
   "source": [
    "# misalnya hasilnya genap, perlu ditambah + 1\n",
    "k = round(len(x_train) ** 0.5)\n",
    "k"
   ]
  },
  {
   "cell_type": "code",
   "execution_count": 67,
   "metadata": {},
   "outputs": [
    {
     "data": {
      "text/plain": [
       "KNeighborsClassifier(algorithm='auto', leaf_size=30, metric='minkowski',\n",
       "                     metric_params=None, n_jobs=None, n_neighbors=11, p=2,\n",
       "                     weights='uniform')"
      ]
     },
     "execution_count": 67,
     "metadata": {},
     "output_type": "execute_result"
    }
   ],
   "source": [
    "model_k = KNeighborsClassifier(n_neighbors = k) # n_neighbors mengikuti hasil penghitungan k\n",
    "model_k.fit(x_train, y_train)"
   ]
  },
  {
   "cell_type": "code",
   "execution_count": 68,
   "metadata": {},
   "outputs": [],
   "source": [
    "y_pred_k = model_k.predict(x_test)"
   ]
  },
  {
   "cell_type": "markdown",
   "metadata": {},
   "source": [
    "### __Evaluating Model__"
   ]
  },
  {
   "cell_type": "code",
   "execution_count": 62,
   "metadata": {},
   "outputs": [
    {
     "name": "stdout",
     "output_type": "stream",
     "text": [
      "              precision    recall  f1-score   support\n",
      "\n",
      "           0       1.00      1.00      1.00        11\n",
      "           1       1.00      0.92      0.96        13\n",
      "           2       0.86      1.00      0.92         6\n",
      "\n",
      "    accuracy                           0.97        30\n",
      "   macro avg       0.95      0.97      0.96        30\n",
      "weighted avg       0.97      0.97      0.97        30\n",
      "\n"
     ]
    }
   ],
   "source": [
    "print(classification_report(y_test, y_pred_k))"
   ]
  },
  {
   "cell_type": "code",
   "execution_count": 69,
   "metadata": {},
   "outputs": [
    {
     "data": {
      "text/html": [
       "<div>\n",
       "<style scoped>\n",
       "    .dataframe tbody tr th:only-of-type {\n",
       "        vertical-align: middle;\n",
       "    }\n",
       "\n",
       "    .dataframe tbody tr th {\n",
       "        vertical-align: top;\n",
       "    }\n",
       "\n",
       "    .dataframe thead th {\n",
       "        text-align: right;\n",
       "    }\n",
       "</style>\n",
       "<table border=\"1\" class=\"dataframe\">\n",
       "  <thead>\n",
       "    <tr style=\"text-align: right;\">\n",
       "      <th></th>\n",
       "      <th>Score (%)</th>\n",
       "    </tr>\n",
       "  </thead>\n",
       "  <tbody>\n",
       "    <tr>\n",
       "      <th>accuracy</th>\n",
       "      <td>100.0</td>\n",
       "    </tr>\n",
       "    <tr>\n",
       "      <th>recall</th>\n",
       "      <td>100.0</td>\n",
       "    </tr>\n",
       "    <tr>\n",
       "      <th>precision</th>\n",
       "      <td>100.0</td>\n",
       "    </tr>\n",
       "    <tr>\n",
       "      <th>roc_auc_score</th>\n",
       "      <td>100.0</td>\n",
       "    </tr>\n",
       "    <tr>\n",
       "      <th>f1_score</th>\n",
       "      <td>100.0</td>\n",
       "    </tr>\n",
       "  </tbody>\n",
       "</table>\n",
       "</div>"
      ],
      "text/plain": [
       "               Score (%)\n",
       "accuracy           100.0\n",
       "recall             100.0\n",
       "precision          100.0\n",
       "roc_auc_score      100.0\n",
       "f1_score           100.0"
      ]
     },
     "execution_count": 69,
     "metadata": {},
     "output_type": "execute_result"
    }
   ],
   "source": [
    "pd.DataFrame(data = [accuracy_score(y_test, y_pred_k)*100,\n",
    "                     recall_score(y_test, y_pred_k, average = 'macro')*100,\n",
    "                     precision_score(y_test, y_pred_k, average = 'macro')*100,\n",
    "                     roc_auc_score(y_test, model_k.predict_proba(x_test), labels=[0,1,2], multi_class='ovo', average='macro')*100,\n",
    "                     f1_score(y_test, y_pred_k, average='macro')*100\n",
    "                    ],\n",
    "             index = ['accuracy', 'recall', 'precision', 'roc_auc_score', 'f1_score'],\n",
    "             columns = ['Score (%)']\n",
    "            )"
   ]
  },
  {
   "cell_type": "code",
   "execution_count": 70,
   "metadata": {},
   "outputs": [
    {
     "data": {
      "text/html": [
       "<div>\n",
       "<style scoped>\n",
       "    .dataframe tbody tr th:only-of-type {\n",
       "        vertical-align: middle;\n",
       "    }\n",
       "\n",
       "    .dataframe tbody tr th {\n",
       "        vertical-align: top;\n",
       "    }\n",
       "\n",
       "    .dataframe thead th {\n",
       "        text-align: right;\n",
       "    }\n",
       "</style>\n",
       "<table border=\"1\" class=\"dataframe\">\n",
       "  <thead>\n",
       "    <tr style=\"text-align: right;\">\n",
       "      <th></th>\n",
       "      <th>Score (%)</th>\n",
       "    </tr>\n",
       "  </thead>\n",
       "  <tbody>\n",
       "    <tr>\n",
       "      <th>Model Score in Data Train</th>\n",
       "      <td>95.833333</td>\n",
       "    </tr>\n",
       "    <tr>\n",
       "      <th>Model Score in Data Test</th>\n",
       "      <td>100.000000</td>\n",
       "    </tr>\n",
       "  </tbody>\n",
       "</table>\n",
       "</div>"
      ],
      "text/plain": [
       "                            Score (%)\n",
       "Model Score in Data Train   95.833333\n",
       "Model Score in Data Test   100.000000"
      ]
     },
     "execution_count": 70,
     "metadata": {},
     "output_type": "execute_result"
    }
   ],
   "source": [
    "pd.DataFrame(data = [model_k.score(x_train, y_train)*100,\n",
    "                    model_k.score(x_test, y_test)*100],\n",
    "            index = ['Model Score in Data Train', 'Model Score in Data Test'],\n",
    "            columns = ['Score (%)'])"
   ]
  },
  {
   "cell_type": "markdown",
   "metadata": {},
   "source": [
    "<hr>\n",
    "\n",
    "# **``Saving Model``**"
   ]
  },
  {
   "cell_type": "markdown",
   "metadata": {},
   "source": [
    "### **1. Saving Model using Joblib**"
   ]
  },
  {
   "cell_type": "code",
   "execution_count": 74,
   "metadata": {},
   "outputs": [
    {
     "data": {
      "text/plain": [
       "['model_LR_Joblib']"
      ]
     },
     "execution_count": 74,
     "metadata": {},
     "output_type": "execute_result"
    }
   ],
   "source": [
    "# simulasi file untuk menyimpan model\n",
    "import numpy as np\n",
    "import pandas as pd\n",
    "from sklearn.linear_model import LogisticRegression\n",
    "from sklearn.datasets import load_iris\n",
    "from sklearn.model_selection import train_test_split\n",
    "import joblib\n",
    "\n",
    "dataIris = load_iris()\n",
    "df = pd.DataFrame(dataIris['data'], columns=['SL', 'SW', 'PL', 'PW'])\n",
    "df['target'] = dataIris['target']\n",
    "df['spesies'] = df['target'].apply(lambda x: dataIris['target_names'][x])\n",
    "\n",
    "xtr, xts, ytr, yts = train_test_split(\n",
    "    df[['SL', 'SW', 'PL', 'PW']],\n",
    "    df['spesies'],\n",
    "    test_size = .2)\n",
    "\n",
    "model_LR = LogisticRegression(solver='lbfgs', multi_class='auto', max_iter=1000)\n",
    "model_LR.fit(xtr, ytr)\n",
    "\n",
    "joblib.dump(model_LR, 'model_LR_Joblib')"
   ]
  },
  {
   "cell_type": "markdown",
   "metadata": {},
   "source": [
    "### **2. Using Joblib Model**"
   ]
  },
  {
   "cell_type": "code",
   "execution_count": 76,
   "metadata": {},
   "outputs": [
    {
     "name": "stdin",
     "output_type": "stream",
     "text": [
      "Ketik berapa Sepal Length:  2\n",
      "Ketik berapa Sepal Width:  3\n",
      "Ketik berapa Petal Length:  1\n",
      "Ketik berapa Petal Width:  4\n"
     ]
    },
    {
     "name": "stdout",
     "output_type": "stream",
     "text": [
      "Hasil Prediksi:  setosa\n",
      "Probabilitas Prediksi:  99.88\n"
     ]
    }
   ],
   "source": [
    "# simulasi menggunakan model\n",
    "\n",
    "model_joblib = joblib.load('model_LR_Joblib')\n",
    "\n",
    "# user input data\n",
    "SL = int(input('Ketik berapa Sepal Length: '))\n",
    "SW = int(input('Ketik berapa Sepal Width: '))\n",
    "PL = int(input('Ketik berapa Petal Length: '))\n",
    "PW = int(input('Ketik berapa Petal Width: '))\n",
    "\n",
    "print('Hasil Prediksi: ', model_joblib.predict([[SL, SW, PL, PW]])[0])\n",
    "print('Probabilitas Prediksi: ', round(model_joblib.predict_proba([[SL, SW, PL, PW]]).tolist()[0][0]*100, 2))"
   ]
  },
  {
   "cell_type": "markdown",
   "metadata": {},
   "source": [
    "### **2. Saving Model using Pickle**"
   ]
  },
  {
   "cell_type": "code",
   "execution_count": 77,
   "metadata": {},
   "outputs": [],
   "source": [
    "# simulasi file untuk menyimpan model\n",
    "import numpy as np\n",
    "import pandas as pd\n",
    "from sklearn.linear_model import LogisticRegression\n",
    "from sklearn.datasets import load_iris\n",
    "from sklearn.model_selection import train_test_split\n",
    "import pickle\n",
    "\n",
    "dataIris = load_iris()\n",
    "df = pd.DataFrame(dataIris['data'], columns=['SL', 'SW', 'PL', 'PW'])\n",
    "df['target'] = dataIris['target']\n",
    "df['spesies'] = df['target'].apply(lambda x: dataIris['target_names'][x])\n",
    "\n",
    "xtr, xts, ytr, yts = train_test_split(\n",
    "    df[['SL', 'SW', 'PL', 'PW']],\n",
    "    df['spesies'],\n",
    "    test_size = .2)\n",
    "\n",
    "model_LR = LogisticRegression(solver='lbfgs', multi_class='auto', max_iter=1000)\n",
    "model_LR.fit(xtr, ytr)\n",
    "\n",
    "with open('model_LR_pickle', 'wb') as modelku:\n",
    "    pickle.dump(model_LR, modelku)"
   ]
  },
  {
   "cell_type": "code",
   "execution_count": 79,
   "metadata": {},
   "outputs": [
    {
     "name": "stdin",
     "output_type": "stream",
     "text": [
      "Ketik berapa Sepal Length:  5\n",
      "Ketik berapa Sepal Width:  4\n",
      "Ketik berapa Petal Length:  3\n",
      "Ketik berapa Petal Width:  2\n"
     ]
    },
    {
     "name": "stdout",
     "output_type": "stream",
     "text": [
      "Hasil Prediksi:  setosa\n",
      "Probabilitas Prediksi:  68.3\n"
     ]
    }
   ],
   "source": [
    "# simulasi menggunakan model\n",
    "import pickle\n",
    "with open('model_LR_pickle', 'rb') as modelku:\n",
    "    model_pickle = pickle.load(modelku)\n",
    "\n",
    "# user input data\n",
    "SL = int(input('Ketik berapa Sepal Length: '))\n",
    "SW = int(input('Ketik berapa Sepal Width: '))\n",
    "PL = int(input('Ketik berapa Petal Length: '))\n",
    "PW = int(input('Ketik berapa Petal Width: '))\n",
    "\n",
    "print('Hasil Prediksi: ', model_pickle.predict([[SL, SW, PL, PW]])[0])\n",
    "print('Probabilitas Prediksi: ', round(model_pickle.predict_proba([[SL, SW, PL, PW]]).tolist()[0][0]*100, 2))"
   ]
  },
  {
   "cell_type": "markdown",
   "metadata": {},
   "source": [
    "<hr>\n",
    "\n",
    "## **Take Home/Class Exercise**"
   ]
  },
  {
   "cell_type": "markdown",
   "metadata": {},
   "source": [
    "#### 1. Dataset yang dipakai adalah **Heart Disease Dataset** ('heart.csv'). \n",
    "#### 2. Keterangan target: 1 = sakit (positif), 0 = sehat (negatif)\n",
    "#### 3. Jalankan Hyperparameter Tuning untuk Model ``Random Forest Classification``!\n",
    "#### 4. Gunakan parameter terbaik dari hasil _tuning_!\n",
    "#### 5. Simpan model dalam _``Pickle``_ dan _``Joblib``_!\n",
    "#### 6. Lakukan uji coba model seolah _user_ memasukkan data sendiri di Apps! \n",
    "#### 7. Output: ``hasil prediksi, probabilitas, presisi, recall, f1_score, roc_auc_score``"
   ]
  },
  {
   "cell_type": "markdown",
   "metadata": {},
   "source": [
    "## **Reference:**\n",
    "- Srishti Sawla, \"K-Nearest Neighbors\", https://medium.com/@srishtisawla/k-nearest-neighbors-f77f6ee6b7f5\n",
    "- Renu Khandelwal, \"K-Nearest Neighbors(KNN)\", https://medium.com/datadriveninvestor/k-nearest-neighbors-knn-7b4bd0128da7\n",
    "- MasChoi, \"K-Nearest Neighbors Menggunakan Python\", https://medium.com/bosbouw/k-nearest-neighbors-menggunakan-python-bd3652ba1e70\n",
    "- Chirag Sehra, \"K Nearest Neighbors Explained Easily\", https://medium.com/@chiragsehra42/k-nearest-neighbors-explained-easily-c26706aa5c7f\n",
    "- Swapna Patil, \"K Nearest Neighbors\", https://medium.com/machinelearningalgorithms/k-nearest-neighbors-c9823dca611b\n",
    "- Dhilip Subramanian, \"A Simple Introduction to K-Nearest Neighbors Algorithm\", https://towardsdatascience.com/a-simple-introduction-to-k-nearest-neighbors-algorithm-b3519ed98e\n",
    "- Asep Maulana Ismail, \"Cara Kerja Algoritma k-Nearest Neighbor (k-NN), https://medium.com/bee-solution-partners/cara-kerja-algoritma-k-nearest-neighbor-k-nn-389297de543e\n",
    "- Italo José, \"KNN (K-Nearest Neighbors) #1\", https://towardsdatascience.com/knn-k-nearest-neighbors-1-a4707b24bd1d\n",
    "- Dataset: https://scikit-learn.org/stable/auto_examples/datasets/plot_iris_dataset.html"
   ]
  }
 ],
 "metadata": {
  "kernelspec": {
   "display_name": "Python 3.8.1 32-bit",
   "language": "python",
   "name": "python38132bitf9f79e71b62e4503b25567c1d3914456"
  },
  "language_info": {
   "codemirror_mode": {
    "name": "ipython",
    "version": 3
   },
   "file_extension": ".py",
   "mimetype": "text/x-python",
   "name": "python",
   "nbconvert_exporter": "python",
   "pygments_lexer": "ipython3",
   "version": "3.8.1"
  }
 },
 "nbformat": 4,
 "nbformat_minor": 4
}
